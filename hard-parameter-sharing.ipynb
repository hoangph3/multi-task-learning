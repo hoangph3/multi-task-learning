{
 "cells": [
  {
   "cell_type": "markdown",
   "id": "d060295c",
   "metadata": {},
   "source": [
    "# Building Hard-Parameter Sharing NeuralNet in Multi-Task Learning\n",
    "\n",
    "In this tutorial, we will use the [UTK Face Dataset](https://www.google.com/url?sa=t&rct=j&q=&esrc=s&source=web&cd=&cad=rja&uact=8&ved=2ahUKEwij2dvrpND6AhVXgFYBHdmYBIQQFnoECA0QAQ&url=https%3A%2F%2Fsusanqq.github.io%2FUTKFace%2F&usg=AOvVaw2ZqJbw298ywh2_n_zwuru1). It's a classification dataset where each image has 3 labels: \n",
    "- gender (male or female)\n",
    "- race (white, black, Asian, Indian, other)\n",
    "- age (a continuous number)\n",
    "\n",
    "![](images/tutorial-task.png)"
   ]
  },
  {
   "cell_type": "markdown",
   "id": "21d764ee",
   "metadata": {},
   "source": [
    "## Dataset\n",
    "\n",
    "The dataset is a set of images, and the names of the images give the labels. For example, the image `25_1_3_20170119171913200.jpg.chip.jpg` can be interpreted as follows:\n",
    "\n",
    "![](images/25_1_3_20170119171913200.jpg.chip.jpg)\n",
    "\n",
    "- 25 is the age\n",
    "- 1 is the gender (0: male, 1: female)\n",
    "- 3 is the race (0:White, 1:Black, 2:Asian, 3:Indian, 4:Other)"
   ]
  },
  {
   "cell_type": "markdown",
   "id": "daf64ccf",
   "metadata": {},
   "source": [
    "## Prepare TF Dataset"
   ]
  },
  {
   "cell_type": "markdown",
   "id": "e8d4c995",
   "metadata": {},
   "source": [
    "### Load image from raw data"
   ]
  },
  {
   "cell_type": "code",
   "execution_count": 1,
   "id": "48ba1ae0",
   "metadata": {},
   "outputs": [],
   "source": [
    "import tensorflow as tf\n",
    "from pathlib import Path\n",
    "from tqdm import tqdm\n",
    "import numpy as np\n",
    "import os\n",
    "\n",
    "data_dir = \"UTKFace/\"\n",
    "image_height = 32\n",
    "image_width = 32\n",
    "\n",
    "def load_image(data_dir, image_height, image_width):\n",
    "    \"\"\"\n",
    "        Load image from raw data\n",
    "    \"\"\"\n",
    "    X = []\n",
    "    Y = []\n",
    "    for filepath in tqdm(Path(data_dir).glob(\"**/*.jpg\"), total=len(os.listdir(data_dir))):\n",
    "        filepath = str(filepath)\n",
    "        filename = os.path.basename(filepath)\n",
    "\n",
    "        # get label (list of tasks): [age, gender, race, timestamp]\n",
    "        label = filename.split('.')[0].split('_')\n",
    "        if len(label) != 4:\n",
    "            continue\n",
    "            \n",
    "        # remove timestamp\n",
    "        label = list(map(int, label[:3]))\n",
    "        \n",
    "        # resize image\n",
    "        raw_image = tf.io.read_file(filepath)\n",
    "        image = tf.image.decode_image(raw_image)\n",
    "        image = tf.cast(tf.image.resize(image, [image_height, image_width]), tf.float32)\n",
    "        \n",
    "        X.append(image)\n",
    "        Y.append(label)\n",
    "        \n",
    "    return np.array(X), np.array(Y)"
   ]
  },
  {
   "cell_type": "code",
   "execution_count": 2,
   "id": "d99adf30",
   "metadata": {},
   "outputs": [
    {
     "name": "stderr",
     "output_type": "stream",
     "text": [
      "100%|██████████| 23708/23708 [00:26<00:00, 902.94it/s] \n"
     ]
    },
    {
     "name": "stdout",
     "output_type": "stream",
     "text": [
      "(23705, 32, 32, 3) (23705, 3)\n"
     ]
    }
   ],
   "source": [
    "# load image from raw\n",
    "X, Y = load_image(data_dir, image_height, image_width)\n",
    "print(X.shape, Y.shape)"
   ]
  },
  {
   "cell_type": "markdown",
   "id": "25c4d9af",
   "metadata": {},
   "source": [
    "### Save and load TFRecord function"
   ]
  },
  {
   "cell_type": "code",
   "execution_count": 3,
   "id": "88eb5f2e",
   "metadata": {},
   "outputs": [],
   "source": [
    "def save_tfrecords(data, label, desfile):\n",
    "    \"\"\"\n",
    "    Input:\n",
    "        data: numpy array with shape (n_samples, height, width, channel)\n",
    "        label: numpy array with shape (n_samples, n_tasks)\n",
    "        desfile: tfrecords's filepath\n",
    "    \"\"\"\n",
    "    with tf.io.TFRecordWriter(desfile) as writer:\n",
    "        for i in range(len(data)):\n",
    "            features = tf.train.Features(\n",
    "                feature = {\n",
    "                    \"data\":tf.train.Feature(bytes_list = tf.train.BytesList(value = [data[i].astype(np.float32).tobytes()])),\n",
    "                    \"label\":tf.train.Feature(bytes_list = tf.train.BytesList(value = [label[i].astype(np.int32).tobytes()]))\n",
    "                }\n",
    "            )\n",
    "            example = tf.train.Example(features = features)\n",
    "            serialized = example.SerializeToString()\n",
    "            writer.write(serialized)"
   ]
  },
  {
   "cell_type": "code",
   "execution_count": 4,
   "id": "70fe8d9c",
   "metadata": {},
   "outputs": [],
   "source": [
    "def _parse_function(example_proto):\n",
    "    \"\"\"\n",
    "        Retrieve tensor array from tensor bytes\n",
    "    \"\"\"\n",
    "    features = {\"data\": tf.io.FixedLenFeature((), tf.string),\n",
    "                \"label\": tf.io.FixedLenFeature((), tf.string)}\n",
    "    parsed_features = tf.io.parse_single_example(example_proto, features)\n",
    "    data = tf.io.decode_raw(parsed_features['data'], tf.float32) / 255.\n",
    "    label = tf.io.decode_raw(parsed_features['label'], tf.int32)\n",
    "    data = tf.reshape(data, [image_height, image_width, 3])\n",
    "    return {'image': data}, {'age': [label[0]], 'gender': [label[1]], 'race': [label[2]]}\n",
    "\n",
    "def load_tfrecords(srcfile, batch_size):\n",
    "    \"\"\"\n",
    "        Load dataset from tfrecords's filepath\n",
    "    \"\"\"\n",
    "    dataset = tf.data.TFRecordDataset(srcfile) # load tfrecord file\n",
    "    dataset = dataset.map(_parse_function) # parse data into tensor\n",
    "    dataset = dataset.batch(batch_size) # set batch_size\n",
    "    return dataset"
   ]
  },
  {
   "cell_type": "markdown",
   "id": "678b9ee6",
   "metadata": {},
   "source": [
    "### Test"
   ]
  },
  {
   "cell_type": "code",
   "execution_count": 5,
   "id": "1a857020",
   "metadata": {},
   "outputs": [],
   "source": [
    "# save numpy to tfrecords\n",
    "save_tfrecords(data=X, label=Y, desfile=\"data.tfr\")"
   ]
  },
  {
   "cell_type": "code",
   "execution_count": 6,
   "id": "102b68d3",
   "metadata": {},
   "outputs": [
    {
     "name": "stdout",
     "output_type": "stream",
     "text": [
      "(128, 32, 32, 3)\n",
      "3\n"
     ]
    }
   ],
   "source": [
    "# Load tensor from tfrecords\n",
    "dataset = load_tfrecords(srcfile=\"data.tfr\", batch_size=128)\n",
    "for batch in dataset:\n",
    "    inputs, labels = batch\n",
    "    print(inputs['image'].shape)\n",
    "    print(len(labels))\n",
    "    break"
   ]
  },
  {
   "cell_type": "markdown",
   "id": "57d47463",
   "metadata": {},
   "source": [
    "## Build model"
   ]
  },
  {
   "cell_type": "code",
   "execution_count": 7,
   "id": "8b005d29",
   "metadata": {},
   "outputs": [],
   "source": [
    "from tensorflow import keras\n",
    "from tensorflow.keras import layers"
   ]
  },
  {
   "cell_type": "code",
   "execution_count": 8,
   "id": "5971f4cd",
   "metadata": {},
   "outputs": [],
   "source": [
    "# Build the encoder model\n",
    "# The encoder model takes the image as input and turns it into a 2048-dimensional feature vector.\n",
    "\n",
    "input_shape = (image_height, image_width, 3)\n",
    "\n",
    "def create_encoder():\n",
    "    resnet = keras.applications.ResNet50V2(\n",
    "        include_top=False, weights=None, input_shape=input_shape, pooling=\"avg\"\n",
    "    )\n",
    "\n",
    "    inputs = keras.Input(shape=input_shape)\n",
    "    outputs = resnet(inputs)\n",
    "    model = keras.Model(inputs=inputs, outputs=outputs, name=\"mtl_encoder\")\n",
    "    return model"
   ]
  },
  {
   "cell_type": "code",
   "execution_count": 9,
   "id": "ef1f1aa1",
   "metadata": {},
   "outputs": [
    {
     "name": "stdout",
     "output_type": "stream",
     "text": [
      "Model: \"mtl_encoder\"\n",
      "_________________________________________________________________\n",
      "Layer (type)                 Output Shape              Param #   \n",
      "=================================================================\n",
      "input_2 (InputLayer)         [(None, 32, 32, 3)]       0         \n",
      "_________________________________________________________________\n",
      "resnet50v2 (Functional)      (None, 2048)              23564800  \n",
      "=================================================================\n",
      "Total params: 23,564,800\n",
      "Trainable params: 23,519,360\n",
      "Non-trainable params: 45,440\n",
      "_________________________________________________________________\n"
     ]
    }
   ],
   "source": [
    "encoder = create_encoder()\n",
    "encoder.summary()"
   ]
  },
  {
   "cell_type": "code",
   "execution_count": 10,
   "id": "199a87d7",
   "metadata": {},
   "outputs": [],
   "source": [
    "# Build hydraNet for multi-task learning\n",
    "\n",
    "learning_rate = 0.01\n",
    "hidden_units = 512\n",
    "\n",
    "def create_hydraNet(encoder, trainable=True):\n",
    "\n",
    "    for layer in encoder.layers:\n",
    "        layer.trainable = trainable\n",
    "\n",
    "    inputs = keras.Input(shape=input_shape, name='image')\n",
    "    features = encoder(inputs)\n",
    "    \n",
    "    # age head\n",
    "    age_features = layers.Dense(hidden_units, activation=\"relu\")(features)\n",
    "    age_outputs = layers.Dense(1, name='age')(age_features)\n",
    "    \n",
    "    # gender head\n",
    "    gender_features = layers.Dense(hidden_units, activation=\"relu\")(features)\n",
    "    gender_outputs = layers.Dense(1, name='gender')(gender_features)\n",
    "    \n",
    "    # race head\n",
    "    race_features = layers.Dense(hidden_units, activation=\"relu\")(features)\n",
    "    race_outputs = layers.Dense(5, name='race')(race_features)\n",
    "    \n",
    "    # build model\n",
    "    model = keras.Model(inputs=inputs, outputs=[age_outputs, gender_outputs, race_outputs], name=\"mtl_net\")\n",
    "    \n",
    "    # define loss\n",
    "    loss = {\n",
    "        \"age\": tf.keras.losses.MeanSquaredError(),\n",
    "        \"gender\": tf.keras.losses.BinaryCrossentropy(from_logits=True),\n",
    "        \"race\": tf.keras.losses.SparseCategoricalCrossentropy(from_logits=True)\n",
    "    }\n",
    "    loss_weights = {\"age\": 1.0, \"gender\": 1.0, \"race\": 1.0}\n",
    "\n",
    "    # monitor metric\n",
    "    metrics = {\n",
    "        \"age\": tf.keras.metrics.MeanSquaredError(),\n",
    "        \"gender\": tf.keras.metrics.BinaryAccuracy(),\n",
    "        \"race\": tf.keras.metrics.SparseCategoricalAccuracy()\n",
    "    }\n",
    "    \n",
    "    # compile\n",
    "    model.compile(\n",
    "        optimizer=keras.optimizers.Adam(learning_rate),\n",
    "        loss=loss,\n",
    "        loss_weights=loss_weights,\n",
    "        metrics=metrics\n",
    "    )\n",
    "\n",
    "    return model"
   ]
  },
  {
   "cell_type": "code",
   "execution_count": 11,
   "id": "b5212973",
   "metadata": {},
   "outputs": [
    {
     "name": "stdout",
     "output_type": "stream",
     "text": [
      "Model: \"mtl_net\"\n",
      "__________________________________________________________________________________________________\n",
      "Layer (type)                    Output Shape         Param #     Connected to                     \n",
      "==================================================================================================\n",
      "image (InputLayer)              [(None, 32, 32, 3)]  0                                            \n",
      "__________________________________________________________________________________________________\n",
      "mtl_encoder (Functional)        (None, 2048)         23564800    image[0][0]                      \n",
      "__________________________________________________________________________________________________\n",
      "dense (Dense)                   (None, 512)          1049088     mtl_encoder[0][0]                \n",
      "__________________________________________________________________________________________________\n",
      "dense_1 (Dense)                 (None, 512)          1049088     mtl_encoder[0][0]                \n",
      "__________________________________________________________________________________________________\n",
      "dense_2 (Dense)                 (None, 512)          1049088     mtl_encoder[0][0]                \n",
      "__________________________________________________________________________________________________\n",
      "age (Dense)                     (None, 1)            513         dense[0][0]                      \n",
      "__________________________________________________________________________________________________\n",
      "gender (Dense)                  (None, 1)            513         dense_1[0][0]                    \n",
      "__________________________________________________________________________________________________\n",
      "race (Dense)                    (None, 5)            2565        dense_2[0][0]                    \n",
      "==================================================================================================\n",
      "Total params: 26,715,655\n",
      "Trainable params: 26,670,215\n",
      "Non-trainable params: 45,440\n",
      "__________________________________________________________________________________________________\n"
     ]
    },
    {
     "data": {
      "image/png": "[encoded data removed]",
      "text/plain": [
       "<IPython.core.display.Image object>"
      ]
     },
     "execution_count": 11,
     "metadata": {},
     "output_type": "execute_result"
    }
   ],
   "source": [
    "model = create_hydraNet(encoder)\n",
    "model.summary()\n",
    "tf.keras.utils.plot_model(model, to_file='hard_params_shared_model.png', show_shapes=True)"
   ]
  },
  {
   "cell_type": "code",
   "execution_count": 55,
   "id": "c7140491",
   "metadata": {},
   "outputs": [],
   "source": [
    "# training\n",
    "model.fit(\n",
    "    dataset,\n",
    "    epochs=50\n",
    ")"
   ]
  },
  {
   "cell_type": "code",
   "execution_count": 56,
   "id": "8b7e103c",
   "metadata": {},
   "outputs": [
    {
     "name": "stdout",
     "output_type": "stream",
     "text": [
      "INFO:tensorflow:Assets written to: models/assets\n"
     ]
    },
    {
     "name": "stderr",
     "output_type": "stream",
     "text": [
      "/home/hoang/.local/lib/python3.6/site-packages/keras/utils/generic_utils.py:497: CustomMaskWarning: Custom mask layers require a config and must override get_config. When loading, the custom mask layer must be passed to the custom_objects argument.\n",
      "  category=CustomMaskWarning)\n"
     ]
    }
   ],
   "source": [
    "tf.keras.models.save_model(model, filepath=\"models\")"
   ]
  },
  {
   "cell_type": "markdown",
   "id": "704c6a90",
   "metadata": {},
   "source": [
    "# Inference"
   ]
  },
  {
   "cell_type": "code",
   "execution_count": 57,
   "id": "0aa7e97d",
   "metadata": {},
   "outputs": [],
   "source": [
    "import matplotlib.pyplot as plt"
   ]
  },
  {
   "cell_type": "code",
   "execution_count": 58,
   "id": "98a121b4",
   "metadata": {},
   "outputs": [],
   "source": [
    "model = tf.keras.models.load_model(\"models/\")"
   ]
  },
  {
   "cell_type": "code",
   "execution_count": 60,
   "id": "8408f1a4",
   "metadata": {},
   "outputs": [
    {
     "name": "stdout",
     "output_type": "stream",
     "text": [
      "(1, 32, 32, 3)\n",
      "[[24.66038]] [[0.97508407]] [[0.12166625 0.7574938  0.00925702 0.07840184 0.03318099]]\n"
     ]
    },
    {
     "data": {
      "image/png": "[encoded data removed]",
      "text/plain": [
       "<Figure size 432x288 with 1 Axes>"
      ]
     },
     "metadata": {
      "needs_background": "light"
     },
     "output_type": "display_data"
    }
   ],
   "source": [
    "raw_image = tf.io.read_file(\"images/test.jpg\")\n",
    "image = tf.image.decode_image(raw_image)\n",
    "image = tf.cast(tf.image.resize(image, [image_height, image_width]), tf.float32) / 255\n",
    "plt.imshow(image)\n",
    "image = tf.expand_dims(image, 0)\n",
    "print(image.shape)\n",
    "\n",
    "age, gender, race = model.predict(image)\n",
    "gender = keras.activations.sigmoid(gender).numpy()\n",
    "race = tf.nn.softmax(race).numpy()\n",
    "\n",
    "print(age, gender, race)"
   ]
  },
  {
   "cell_type": "code",
   "execution_count": 62,
   "id": "7c16f73b",
   "metadata": {},
   "outputs": [
    {
     "name": "stdout",
     "output_type": "stream",
     "text": [
      "(1, 32, 32, 3)\n",
      "[[29.74011]] [[0.15337723]] [[0.29284006 0.01678104 0.3842911  0.17458135 0.13150643]]\n"
     ]
    },
    {
     "data": {
      "image/png": "[encoded data removed]",
      "text/plain": [
       "<Figure size 432x288 with 1 Axes>"
      ]
     },
     "metadata": {
      "needs_background": "light"
     },
     "output_type": "display_data"
    }
   ],
   "source": [
    "raw_image = tf.io.read_file(\"images/test_1.jpg\")\n",
    "image = tf.image.decode_image(raw_image)\n",
    "image = tf.cast(tf.image.resize(image, [image_height, image_width]), tf.float32) / 255\n",
    "plt.imshow(image)\n",
    "image = tf.expand_dims(image, 0)\n",
    "print(image.shape)\n",
    "\n",
    "age, gender, race = model.predict(image)\n",
    "gender = keras.activations.sigmoid(gender).numpy()\n",
    "race = tf.nn.softmax(race).numpy()\n",
    "\n",
    "print(age, gender, race)"
   ]
  },
  {
   "cell_type": "code",
   "execution_count": null,
   "id": "bd5ab871",
   "metadata": {},
   "outputs": [],
   "source": []
  }
 ],
 "metadata": {
  "kernelspec": {
   "display_name": "Python 3",
   "language": "python",
   "name": "python3"
  },
  "language_info": {
   "codemirror_mode": {
    "name": "ipython",
    "version": 3
   },
   "file_extension": ".py",
   "mimetype": "text/x-python",
   "name": "python",
   "nbconvert_exporter": "python",
   "pygments_lexer": "ipython3",
   "version": "3.6.9"
  }
 },
 "nbformat": 4,
 "nbformat_minor": 5
}
