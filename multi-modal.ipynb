{
 "cells": [
  {
   "cell_type": "markdown",
   "metadata": {
    "id": "FhLQ_avnZbSu"
   },
   "source": [
    "# Multi-modal learning\n",
    "\n",
    "In this example, we will build and train a model for predicting multimodal entailment. We will be\n",
    "using the\n",
    "[multimodal entailment dataset](https://github.com/google-research-datasets/recognizing-multimodal-entailment)\n",
    "recently introduced by Google Research."
   ]
  },
  {
   "cell_type": "markdown",
   "metadata": {
    "id": "C2og9hdwZbS0"
   },
   "source": [
    "On social media platforms, to audit and moderate content\n",
    "we may want to find answers to the\n",
    "following questions in near real-time:\n",
    "\n",
    "* Does a given piece of information contradict the other?\n",
    "* Does a given piece of information imply the other?\n",
    "\n",
    "In NLP, this task is called analyzing _textual entailment_. However, that's only\n",
    "when the information comes from text content.\n",
    "In practice, it's often the case the information available comes not just\n",
    "from text content, but from a multimodal combination of text, images, audio, video, etc.\n",
    "_Multimodal entailment_ is simply the extension of textual entailment to a variety\n",
    "of new input modalities."
   ]
  },
  {
   "cell_type": "markdown",
   "metadata": {
    "id": "eBm_Z6EGZbS7"
   },
   "source": [
    "## Imports"
   ]
  },
  {
   "cell_type": "code",
   "execution_count": 3,
   "metadata": {
    "id": "l2yOzmcSZbS8"
   },
   "outputs": [],
   "source": [
    "from sklearn.model_selection import train_test_split\n",
    "import matplotlib.pyplot as plt\n",
    "import pandas as pd\n",
    "import numpy as np\n",
    "import os\n",
    "\n",
    "import tensorflow as tf\n",
    "import tensorflow_hub as hub\n",
    "import tensorflow_text as text\n",
    "from tensorflow import keras"
   ]
  },
  {
   "cell_type": "markdown",
   "metadata": {
    "id": "xFtQ6Zs4ZbTI"
   },
   "source": [
    "## Define a label map"
   ]
  },
  {
   "cell_type": "code",
   "execution_count": 4,
   "metadata": {
    "id": "FEwImAOCZbTK"
   },
   "outputs": [],
   "source": [
    "label_map = {\"Contradictory\": 0, \"Implies\": 1, \"NoEntailment\": 2}"
   ]
  },
  {
   "cell_type": "markdown",
   "metadata": {
    "id": "fA9JEg-RZbTP"
   },
   "source": [
    "## Collect the dataset\n",
    "\n",
    "The original dataset is available\n",
    "[here](https://github.com/google-research-datasets/recognizing-multimodal-entailment).\n",
    "It comes with URLs of images which are hosted on Twitter's photo storage system called\n",
    "the\n",
    "[Photo Blob Storage (PBS for short)](https://blog.twitter.com/engineering/en_us/a/2012/blobstore-twitter-s-in-house-photo-storage-system).\n",
    "We will be working with the downloaded images along with additional data that comes with\n",
    "the original dataset. Thanks to\n",
    "[Nilabhra Roy Chowdhury](https://de.linkedin.com/in/nilabhraroychowdhury) who worked on\n",
    "preparing the image data."
   ]
  },
  {
   "cell_type": "code",
   "execution_count": 10,
   "metadata": {
    "id": "ouoRrECkZbTR"
   },
   "outputs": [],
   "source": [
    "image_base_path = keras.utils.get_file(\n",
    "    \"tweet_images\",\n",
    "    \"https://github.com/sayakpaul/Multimodal-Entailment-Baseline/releases/download/v1.0.0/tweet_images.tar.gz\",\n",
    "    untar=True,\n",
    ")"
   ]
  },
  {
   "cell_type": "markdown",
   "metadata": {
    "id": "K3yoxfBCZbTU"
   },
   "source": [
    "## Read the dataset and apply basic preprocessing"
   ]
  },
  {
   "cell_type": "code",
   "execution_count": 12,
   "metadata": {
    "id": "I9mfjX4VZbTY"
   },
   "outputs": [
    {
     "data": {
      "text/html": [
       "<div>\n",
       "<style scoped>\n",
       "    .dataframe tbody tr th:only-of-type {\n",
       "        vertical-align: middle;\n",
       "    }\n",
       "\n",
       "    .dataframe tbody tr th {\n",
       "        vertical-align: top;\n",
       "    }\n",
       "\n",
       "    .dataframe thead th {\n",
       "        text-align: right;\n",
       "    }\n",
       "</style>\n",
       "<table border=\"1\" class=\"dataframe\">\n",
       "  <thead>\n",
       "    <tr style=\"text-align: right;\">\n",
       "      <th></th>\n",
       "      <th>id_1</th>\n",
       "      <th>text_1</th>\n",
       "      <th>image_1</th>\n",
       "      <th>id_2</th>\n",
       "      <th>text_2</th>\n",
       "      <th>image_2</th>\n",
       "      <th>label</th>\n",
       "    </tr>\n",
       "  </thead>\n",
       "  <tbody>\n",
       "    <tr>\n",
       "      <th>36</th>\n",
       "      <td>1348045023233900550</td>\n",
       "      <td>Additions and deletions by date:\\n\\n1/8 - 7\\n1...</td>\n",
       "      <td>http://pbs.twimg.com/media/ErU3IL_XMAIDm2L.png</td>\n",
       "      <td>1354562715050717188</td>\n",
       "      <td>Additions and deletions by date:\\n\\n1/27 - 1\\n...</td>\n",
       "      <td>http://pbs.twimg.com/media/EsxfOuDXEAYU_ky.png</td>\n",
       "      <td>Contradictory</td>\n",
       "    </tr>\n",
       "    <tr>\n",
       "      <th>1309</th>\n",
       "      <td>1369481022392258562</td>\n",
       "      <td>Friends, interested all go to have a look!\\n@k...</td>\n",
       "      <td>http://pbs.twimg.com/media/EwFfu30U8AUPuvK.jpg</td>\n",
       "      <td>1372280838524596224</td>\n",
       "      <td>Friends, interested all go to have a look!\\n@M...</td>\n",
       "      <td>http://pbs.twimg.com/media/EwtSJnzVoAI9PRX.jpg</td>\n",
       "      <td>Contradictory</td>\n",
       "    </tr>\n",
       "    <tr>\n",
       "      <th>1371</th>\n",
       "      <td>1341956785826107393</td>\n",
       "      <td>🚨#BRONCO #ROLL #CALL🚨Congrats to our #BRONCOS ...</td>\n",
       "      <td>http://pbs.twimg.com/media/Ep5Y1MeXcAUKduS.jpg</td>\n",
       "      <td>1341956818021601281</td>\n",
       "      <td>🚨#BRONCO #ROLL #CALL🚨Congrats to our #BRONCOS ...</td>\n",
       "      <td>http://pbs.twimg.com/media/Ep5WfRxXIAAB5rJ.jpg</td>\n",
       "      <td>NoEntailment</td>\n",
       "    </tr>\n",
       "    <tr>\n",
       "      <th>763</th>\n",
       "      <td>1376951543128326150</td>\n",
       "      <td>The Bluejay baseball team (2-2) lost to a good...</td>\n",
       "      <td>http://pbs.twimg.com/media/ExvqIY6XAAE9VMS.jpg</td>\n",
       "      <td>1382863178921574402</td>\n",
       "      <td>Bluejays move to 9-4 with a 9-7 win over St. P...</td>\n",
       "      <td>http://pbs.twimg.com/media/EzDqu4kXMAAhCuu.jpg</td>\n",
       "      <td>NoEntailment</td>\n",
       "    </tr>\n",
       "    <tr>\n",
       "      <th>975</th>\n",
       "      <td>1368181957000040455</td>\n",
       "      <td>-\\nCongrats to our #Giveaway Winner 🥳\\n\\n🍀🏆🍀 @...</td>\n",
       "      <td>http://pbs.twimg.com/media/Evy-fpFXEAgqMzN.jpg</td>\n",
       "      <td>1380824836658720773</td>\n",
       "      <td>-\\nCongrats to our #Giveaway Winner 🥳\\n\\n🍀🏆🍀 @...</td>\n",
       "      <td>http://pbs.twimg.com/media/Eyms2xVXAAU7T7_.jpg</td>\n",
       "      <td>NoEntailment</td>\n",
       "    </tr>\n",
       "    <tr>\n",
       "      <th>287</th>\n",
       "      <td>1373607898899640328</td>\n",
       "      <td>Ggonekim instagram update:\\n\\n#CHANELinJeju #샤...</td>\n",
       "      <td>http://pbs.twimg.com/media/Ew-IZL5VoAQxVsR.jpg</td>\n",
       "      <td>1373625415923863553</td>\n",
       "      <td>Ggone Insta update! Follow here on IG ➡️ @ggon...</td>\n",
       "      <td>http://pbs.twimg.com/media/ExAZCSIWEAMWgrF.jpg</td>\n",
       "      <td>NoEntailment</td>\n",
       "    </tr>\n",
       "    <tr>\n",
       "      <th>1336</th>\n",
       "      <td>1349442481897820161</td>\n",
       "      <td>#Space: a beautiful image of #Saturn along wit...</td>\n",
       "      <td>http://pbs.twimg.com/media/ErouyR5XIAEeGR9.jpg</td>\n",
       "      <td>1353770885354811392</td>\n",
       "      <td>An amazing view of saturn by hubble.\\n#hubble\\...</td>\n",
       "      <td>http://pbs.twimg.com/media/EsmPcYwU4AAyzPB.jpg</td>\n",
       "      <td>NoEntailment</td>\n",
       "    </tr>\n",
       "    <tr>\n",
       "      <th>904</th>\n",
       "      <td>1353792699887968262</td>\n",
       "      <td>[New Post] Your Key to Catch-Up After Lockdown...</td>\n",
       "      <td>http://pbs.twimg.com/media/Esmi6TdXEAUdTel.jpg</td>\n",
       "      <td>1362874632550944769</td>\n",
       "      <td>Your Key to Catch-Up After Lockdown – Reading ...</td>\n",
       "      <td>http://pbs.twimg.com/media/EunnQWXWQAA8sXm.jpg</td>\n",
       "      <td>NoEntailment</td>\n",
       "    </tr>\n",
       "    <tr>\n",
       "      <th>659</th>\n",
       "      <td>1379722651598430208</td>\n",
       "      <td>📢2PM VIEW COUNT UPDATE⚠️\\n\\nWHAT? : +7,057\\nAC...</td>\n",
       "      <td>http://pbs.twimg.com/media/EyWZB40VgAAYSPJ.jpg</td>\n",
       "      <td>1379722701544169477</td>\n",
       "      <td>📢3PM VIEW COUNT UPDATE⚠️\\n\\nWHAT? : +5,157\\nAC...</td>\n",
       "      <td>http://pbs.twimg.com/media/EyWmWn0VEAIQmR-.jpg</td>\n",
       "      <td>NoEntailment</td>\n",
       "    </tr>\n",
       "    <tr>\n",
       "      <th>1359</th>\n",
       "      <td>1355996394235047945</td>\n",
       "      <td>#Benfica \\nFerro transfer confirmed with move ...</td>\n",
       "      <td>http://pbs.twimg.com/media/EtF3iMdXIAIoPsK.jpg</td>\n",
       "      <td>1356256773250965511</td>\n",
       "      <td>📝 DEAL DONE: Valencia have signed Ferro from B...</td>\n",
       "      <td>http://pbs.twimg.com/media/EtFpDMbW4AcwZ2N.jpg</td>\n",
       "      <td>Implies</td>\n",
       "    </tr>\n",
       "  </tbody>\n",
       "</table>\n",
       "</div>"
      ],
      "text/plain": [
       "                     id_1                                             text_1  \\\n",
       "36    1348045023233900550  Additions and deletions by date:\\n\\n1/8 - 7\\n1...   \n",
       "1309  1369481022392258562  Friends, interested all go to have a look!\\n@k...   \n",
       "1371  1341956785826107393  🚨#BRONCO #ROLL #CALL🚨Congrats to our #BRONCOS ...   \n",
       "763   1376951543128326150  The Bluejay baseball team (2-2) lost to a good...   \n",
       "975   1368181957000040455  -\\nCongrats to our #Giveaway Winner 🥳\\n\\n🍀🏆🍀 @...   \n",
       "287   1373607898899640328  Ggonekim instagram update:\\n\\n#CHANELinJeju #샤...   \n",
       "1336  1349442481897820161  #Space: a beautiful image of #Saturn along wit...   \n",
       "904   1353792699887968262  [New Post] Your Key to Catch-Up After Lockdown...   \n",
       "659   1379722651598430208  📢2PM VIEW COUNT UPDATE⚠️\\n\\nWHAT? : +7,057\\nAC...   \n",
       "1359  1355996394235047945  #Benfica \\nFerro transfer confirmed with move ...   \n",
       "\n",
       "                                             image_1                 id_2  \\\n",
       "36    http://pbs.twimg.com/media/ErU3IL_XMAIDm2L.png  1354562715050717188   \n",
       "1309  http://pbs.twimg.com/media/EwFfu30U8AUPuvK.jpg  1372280838524596224   \n",
       "1371  http://pbs.twimg.com/media/Ep5Y1MeXcAUKduS.jpg  1341956818021601281   \n",
       "763   http://pbs.twimg.com/media/ExvqIY6XAAE9VMS.jpg  1382863178921574402   \n",
       "975   http://pbs.twimg.com/media/Evy-fpFXEAgqMzN.jpg  1380824836658720773   \n",
       "287   http://pbs.twimg.com/media/Ew-IZL5VoAQxVsR.jpg  1373625415923863553   \n",
       "1336  http://pbs.twimg.com/media/ErouyR5XIAEeGR9.jpg  1353770885354811392   \n",
       "904   http://pbs.twimg.com/media/Esmi6TdXEAUdTel.jpg  1362874632550944769   \n",
       "659   http://pbs.twimg.com/media/EyWZB40VgAAYSPJ.jpg  1379722701544169477   \n",
       "1359  http://pbs.twimg.com/media/EtF3iMdXIAIoPsK.jpg  1356256773250965511   \n",
       "\n",
       "                                                 text_2  \\\n",
       "36    Additions and deletions by date:\\n\\n1/27 - 1\\n...   \n",
       "1309  Friends, interested all go to have a look!\\n@M...   \n",
       "1371  🚨#BRONCO #ROLL #CALL🚨Congrats to our #BRONCOS ...   \n",
       "763   Bluejays move to 9-4 with a 9-7 win over St. P...   \n",
       "975   -\\nCongrats to our #Giveaway Winner 🥳\\n\\n🍀🏆🍀 @...   \n",
       "287   Ggone Insta update! Follow here on IG ➡️ @ggon...   \n",
       "1336  An amazing view of saturn by hubble.\\n#hubble\\...   \n",
       "904   Your Key to Catch-Up After Lockdown – Reading ...   \n",
       "659   📢3PM VIEW COUNT UPDATE⚠️\\n\\nWHAT? : +5,157\\nAC...   \n",
       "1359  📝 DEAL DONE: Valencia have signed Ferro from B...   \n",
       "\n",
       "                                             image_2          label  \n",
       "36    http://pbs.twimg.com/media/EsxfOuDXEAYU_ky.png  Contradictory  \n",
       "1309  http://pbs.twimg.com/media/EwtSJnzVoAI9PRX.jpg  Contradictory  \n",
       "1371  http://pbs.twimg.com/media/Ep5WfRxXIAAB5rJ.jpg   NoEntailment  \n",
       "763   http://pbs.twimg.com/media/EzDqu4kXMAAhCuu.jpg   NoEntailment  \n",
       "975   http://pbs.twimg.com/media/Eyms2xVXAAU7T7_.jpg   NoEntailment  \n",
       "287   http://pbs.twimg.com/media/ExAZCSIWEAMWgrF.jpg   NoEntailment  \n",
       "1336  http://pbs.twimg.com/media/EsmPcYwU4AAyzPB.jpg   NoEntailment  \n",
       "904   http://pbs.twimg.com/media/EunnQWXWQAA8sXm.jpg   NoEntailment  \n",
       "659   http://pbs.twimg.com/media/EyWmWn0VEAIQmR-.jpg   NoEntailment  \n",
       "1359  http://pbs.twimg.com/media/EtFpDMbW4AcwZ2N.jpg        Implies  "
      ]
     },
     "execution_count": 12,
     "metadata": {},
     "output_type": "execute_result"
    }
   ],
   "source": [
    "df = pd.read_csv(\n",
    "    \"tweets.csv\"\n",
    ")\n",
    "df.sample(10)"
   ]
  },
  {
   "cell_type": "markdown",
   "metadata": {
    "id": "H5C25qKlZbTi"
   },
   "source": [
    "The columns we are interested in are the following:\n",
    "\n",
    "* `text_1`\n",
    "* `image_1`\n",
    "* `text_2`\n",
    "* `image_2`\n",
    "* `label`\n",
    "\n",
    "The entailment task is formulated as the following:\n",
    "\n",
    "***Given the pairs of (`text_1`, `image_1`) and (`text_2`, `image_2`) do they entail (or\n",
    "not entail or contradict) each other?***\n",
    "\n",
    "We have the images already downloaded. `image_1` is downloaded as `id_1` as its filename\n",
    "and `image_2` is downloaded as `id_2` as its filename. In the next step, we will add two\n",
    "more columns to `df` - filepaths of `image_1` and `image_2`."
   ]
  },
  {
   "cell_type": "code",
   "execution_count": 24,
   "metadata": {
    "id": "RqMEWUNdZbTk"
   },
   "outputs": [],
   "source": [
    "images_one_paths = []\n",
    "images_two_paths = []\n",
    "\n",
    "for idx in range(len(df)):\n",
    "    current_row = df.iloc[idx]\n",
    "    id_1 = current_row[\"id_1\"]\n",
    "    id_2 = current_row[\"id_2\"]\n",
    "    extentsion_one = current_row[\"image_1\"].split(\".\")[-1]\n",
    "    extentsion_two = current_row[\"image_2\"].split(\".\")[-1]\n",
    "\n",
    "    image_one_path = os.path.join(image_base_path, str(id_1) + f\".{extentsion_one}\")\n",
    "    image_two_path = os.path.join(image_base_path, str(id_2) + f\".{extentsion_two}\")\n",
    "\n",
    "    images_one_paths.append(image_one_path)\n",
    "    images_two_paths.append(image_two_path)\n",
    "\n",
    "df[\"image_1_path\"] = images_one_paths\n",
    "df[\"image_2_path\"] = images_two_paths\n",
    "\n",
    "# Create another column containing the integer ids of\n",
    "# the string labels.\n",
    "df[\"label_idx\"] = df[\"label\"].apply(lambda x: label_map[x])"
   ]
  },
  {
   "cell_type": "code",
   "execution_count": 25,
   "metadata": {},
   "outputs": [
    {
     "data": {
      "text/html": [
       "<div>\n",
       "<style scoped>\n",
       "    .dataframe tbody tr th:only-of-type {\n",
       "        vertical-align: middle;\n",
       "    }\n",
       "\n",
       "    .dataframe tbody tr th {\n",
       "        vertical-align: top;\n",
       "    }\n",
       "\n",
       "    .dataframe thead th {\n",
       "        text-align: right;\n",
       "    }\n",
       "</style>\n",
       "<table border=\"1\" class=\"dataframe\">\n",
       "  <thead>\n",
       "    <tr style=\"text-align: right;\">\n",
       "      <th></th>\n",
       "      <th>id_1</th>\n",
       "      <th>text_1</th>\n",
       "      <th>image_1</th>\n",
       "      <th>id_2</th>\n",
       "      <th>text_2</th>\n",
       "      <th>image_2</th>\n",
       "      <th>label</th>\n",
       "      <th>image_1_path</th>\n",
       "      <th>image_2_path</th>\n",
       "      <th>label_idx</th>\n",
       "    </tr>\n",
       "  </thead>\n",
       "  <tbody>\n",
       "    <tr>\n",
       "      <th>0</th>\n",
       "      <td>1375936088968200205</td>\n",
       "      <td>150 years after its inauguration, the strategi...</td>\n",
       "      <td>http://pbs.twimg.com/media/ExeIVRBWYAAwizQ.jpg</td>\n",
       "      <td>1376653595144241155</td>\n",
       "      <td>Look how only 190 km #suezcanel carries 12% of...</td>\n",
       "      <td>http://pbs.twimg.com/media/ExrbJffWgAoBaxO.jpg</td>\n",
       "      <td>NoEntailment</td>\n",
       "      <td>/home/hoang/.keras/datasets/tweet_images/13759...</td>\n",
       "      <td>/home/hoang/.keras/datasets/tweet_images/13766...</td>\n",
       "      <td>2</td>\n",
       "    </tr>\n",
       "    <tr>\n",
       "      <th>1</th>\n",
       "      <td>1360981123388436489</td>\n",
       "      <td>Fall Guys is celebrating Valentine's Day with ...</td>\n",
       "      <td>http://pbs.twimg.com/media/EuMowPiXYAEylR8.jpg</td>\n",
       "      <td>1361075903606910976</td>\n",
       "      <td>Fall Guys Red Panda costume available for limi...</td>\n",
       "      <td>http://pbs.twimg.com/media/EuODUixWYAMRukK.jpg</td>\n",
       "      <td>NoEntailment</td>\n",
       "      <td>/home/hoang/.keras/datasets/tweet_images/13609...</td>\n",
       "      <td>/home/hoang/.keras/datasets/tweet_images/13610...</td>\n",
       "      <td>2</td>\n",
       "    </tr>\n",
       "    <tr>\n",
       "      <th>2</th>\n",
       "      <td>1336637206899945472</td>\n",
       "      <td>Impressive Batting Display From Shoaib Malik 🏏...</td>\n",
       "      <td>http://pbs.twimg.com/media/EoywcVGXMAE5FZK.jpg</td>\n",
       "      <td>1339243901799030785</td>\n",
       "      <td>A Half century of King\\n\\n    🔥\"Shoaib Malik\" ...</td>\n",
       "      <td>http://pbs.twimg.com/media/EpXzOwRXYAYLaCB.jpg</td>\n",
       "      <td>NoEntailment</td>\n",
       "      <td>/home/hoang/.keras/datasets/tweet_images/13366...</td>\n",
       "      <td>/home/hoang/.keras/datasets/tweet_images/13392...</td>\n",
       "      <td>2</td>\n",
       "    </tr>\n",
       "    <tr>\n",
       "      <th>3</th>\n",
       "      <td>1336490796279742464</td>\n",
       "      <td>How #confident are you today? https://t.co/5ay...</td>\n",
       "      <td>http://pbs.twimg.com/media/EowrS9aVEAAMhsF.jpg</td>\n",
       "      <td>1341081069248868353</td>\n",
       "      <td>How #confident are you today? https://t.co/KqZ...</td>\n",
       "      <td>http://pbs.twimg.com/media/Epx6IA-UwAA8pqN.jpg</td>\n",
       "      <td>Implies</td>\n",
       "      <td>/home/hoang/.keras/datasets/tweet_images/13364...</td>\n",
       "      <td>/home/hoang/.keras/datasets/tweet_images/13410...</td>\n",
       "      <td>1</td>\n",
       "    </tr>\n",
       "    <tr>\n",
       "      <th>4</th>\n",
       "      <td>1358934899256877059</td>\n",
       "      <td>The Peacocks finish out the first quarter trai...</td>\n",
       "      <td>http://pbs.twimg.com/media/EtvoCsuWQAALmyP.jpg</td>\n",
       "      <td>1361131487077228546</td>\n",
       "      <td>10 minutes gone here at home as the Peacocks l...</td>\n",
       "      <td>http://pbs.twimg.com/media/EuO1xf2XIAAOIGb.jpg</td>\n",
       "      <td>NoEntailment</td>\n",
       "      <td>/home/hoang/.keras/datasets/tweet_images/13589...</td>\n",
       "      <td>/home/hoang/.keras/datasets/tweet_images/13611...</td>\n",
       "      <td>2</td>\n",
       "    </tr>\n",
       "  </tbody>\n",
       "</table>\n",
       "</div>"
      ],
      "text/plain": [
       "                  id_1                                             text_1  \\\n",
       "0  1375936088968200205  150 years after its inauguration, the strategi...   \n",
       "1  1360981123388436489  Fall Guys is celebrating Valentine's Day with ...   \n",
       "2  1336637206899945472  Impressive Batting Display From Shoaib Malik 🏏...   \n",
       "3  1336490796279742464  How #confident are you today? https://t.co/5ay...   \n",
       "4  1358934899256877059  The Peacocks finish out the first quarter trai...   \n",
       "\n",
       "                                          image_1                 id_2  \\\n",
       "0  http://pbs.twimg.com/media/ExeIVRBWYAAwizQ.jpg  1376653595144241155   \n",
       "1  http://pbs.twimg.com/media/EuMowPiXYAEylR8.jpg  1361075903606910976   \n",
       "2  http://pbs.twimg.com/media/EoywcVGXMAE5FZK.jpg  1339243901799030785   \n",
       "3  http://pbs.twimg.com/media/EowrS9aVEAAMhsF.jpg  1341081069248868353   \n",
       "4  http://pbs.twimg.com/media/EtvoCsuWQAALmyP.jpg  1361131487077228546   \n",
       "\n",
       "                                              text_2  \\\n",
       "0  Look how only 190 km #suezcanel carries 12% of...   \n",
       "1  Fall Guys Red Panda costume available for limi...   \n",
       "2  A Half century of King\\n\\n    🔥\"Shoaib Malik\" ...   \n",
       "3  How #confident are you today? https://t.co/KqZ...   \n",
       "4  10 minutes gone here at home as the Peacocks l...   \n",
       "\n",
       "                                          image_2         label  \\\n",
       "0  http://pbs.twimg.com/media/ExrbJffWgAoBaxO.jpg  NoEntailment   \n",
       "1  http://pbs.twimg.com/media/EuODUixWYAMRukK.jpg  NoEntailment   \n",
       "2  http://pbs.twimg.com/media/EpXzOwRXYAYLaCB.jpg  NoEntailment   \n",
       "3  http://pbs.twimg.com/media/Epx6IA-UwAA8pqN.jpg       Implies   \n",
       "4  http://pbs.twimg.com/media/EuO1xf2XIAAOIGb.jpg  NoEntailment   \n",
       "\n",
       "                                        image_1_path  \\\n",
       "0  /home/hoang/.keras/datasets/tweet_images/13759...   \n",
       "1  /home/hoang/.keras/datasets/tweet_images/13609...   \n",
       "2  /home/hoang/.keras/datasets/tweet_images/13366...   \n",
       "3  /home/hoang/.keras/datasets/tweet_images/13364...   \n",
       "4  /home/hoang/.keras/datasets/tweet_images/13589...   \n",
       "\n",
       "                                        image_2_path  label_idx  \n",
       "0  /home/hoang/.keras/datasets/tweet_images/13766...          2  \n",
       "1  /home/hoang/.keras/datasets/tweet_images/13610...          2  \n",
       "2  /home/hoang/.keras/datasets/tweet_images/13392...          2  \n",
       "3  /home/hoang/.keras/datasets/tweet_images/13410...          1  \n",
       "4  /home/hoang/.keras/datasets/tweet_images/13611...          2  "
      ]
     },
     "execution_count": 25,
     "metadata": {},
     "output_type": "execute_result"
    }
   ],
   "source": [
    "df.head()"
   ]
  },
  {
   "cell_type": "markdown",
   "metadata": {
    "id": "lhd7liDQZbTm"
   },
   "source": [
    "## Dataset visualization"
   ]
  },
  {
   "cell_type": "code",
   "execution_count": 53,
   "metadata": {
    "id": "_XGMein6ZbTn"
   },
   "outputs": [
    {
     "data": {
      "image/png": "[encoded data removed]",
      "text/plain": [
       "<Figure size 432x288 with 2 Axes>"
      ]
     },
     "metadata": {
      "needs_background": "light"
     },
     "output_type": "display_data"
    },
    {
     "name": "stdout",
     "output_type": "stream",
     "text": [
      "Text one: Popular Front extends support to farmers’ protests; calls for struggle to preserve constitution https://t.co/bn7tOO5D3V\n",
      "Text two: Popular Front extends support to #FarmersProtest; calls for the struggle to preserve the constitution.\n",
      "\n",
      "#ConstitutionDay #FarmersDelhiProtest https://t.co/5W55IqaISx\n",
      "Label: Implies\n"
     ]
    },
    {
     "data": {
      "image/png": "[encoded data removed]",
      "text/plain": [
       "<Figure size 432x288 with 2 Axes>"
      ]
     },
     "metadata": {
      "needs_background": "light"
     },
     "output_type": "display_data"
    },
    {
     "name": "stdout",
     "output_type": "stream",
     "text": [
      "Text one: I've just watched episode S04 | E08 of Station 19! #station19  https://t.co/bTTOKOS24V #tvtime https://t.co/0eJgbfMhaP\n",
      "Text two: I've just watched episode S04 | E10 of Station 19! #station19  https://t.co/hYJHtE4epN #tvtime https://t.co/MHzC58jQK4\n",
      "Label: NoEntailment\n"
     ]
    }
   ],
   "source": [
    "\n",
    "def visualize(idx):\n",
    "    current_row = df.iloc[idx]\n",
    "    image_1 = plt.imread(current_row[\"image_1_path\"])\n",
    "    image_2 = plt.imread(current_row[\"image_2_path\"])\n",
    "    text_1 = current_row[\"text_1\"]\n",
    "    text_2 = current_row[\"text_2\"]\n",
    "    label = current_row[\"label\"]\n",
    "\n",
    "    plt.subplot(1, 2, 1)\n",
    "    plt.imshow(image_1)\n",
    "    plt.axis(\"off\")\n",
    "    plt.title(\"Image One\")\n",
    "    plt.subplot(1, 2, 2)\n",
    "    plt.imshow(image_1)\n",
    "    plt.axis(\"off\")\n",
    "    plt.title(\"Image Two\")\n",
    "    plt.show()\n",
    "\n",
    "    print(f\"Text one: {text_1}\")\n",
    "    print(f\"Text two: {text_2}\")\n",
    "    print(f\"Label: {label}\")\n",
    "\n",
    "\n",
    "random_idx = np.random.choice(len(df))\n",
    "visualize(random_idx)\n",
    "\n",
    "random_idx = np.random.choice(len(df))\n",
    "visualize(random_idx)"
   ]
  },
  {
   "cell_type": "markdown",
   "metadata": {
    "id": "ECiqh2oRZbTx"
   },
   "source": [
    "## Train/test split\n",
    "\n",
    "The dataset suffers from\n",
    "[class imbalance problem](https://developers.google.com/machine-learning/glossary#class-imbalanced-dataset).\n",
    "We can confirm that in the following cell."
   ]
  },
  {
   "cell_type": "code",
   "execution_count": 54,
   "metadata": {
    "id": "wrz0r9HgZbTz"
   },
   "outputs": [
    {
     "data": {
      "text/plain": [
       "NoEntailment     1182\n",
       "Contradictory     109\n",
       "Implies           109\n",
       "Name: label, dtype: int64"
      ]
     },
     "execution_count": 54,
     "metadata": {},
     "output_type": "execute_result"
    }
   ],
   "source": [
    "df[\"label\"].value_counts()"
   ]
  },
  {
   "cell_type": "markdown",
   "metadata": {
    "id": "ojRiiQgyZbT0"
   },
   "source": [
    "To account for that we will go for a stratified split."
   ]
  },
  {
   "cell_type": "code",
   "execution_count": 57,
   "metadata": {
    "id": "ricC4NRgZbT1"
   },
   "outputs": [
    {
     "name": "stdout",
     "output_type": "stream",
     "text": [
      "Total training examples: 1197\n",
      "Total validation examples: 63\n",
      "Total test examples: 140\n"
     ]
    }
   ],
   "source": [
    "# 10% for test\n",
    "train_df, test_df = train_test_split(\n",
    "    df, test_size=0.1, stratify=df[\"label\"].values, random_state=42\n",
    ")\n",
    "# 5% for validation\n",
    "train_df, val_df = train_test_split(\n",
    "    train_df, test_size=0.05, stratify=train_df[\"label\"].values, random_state=42\n",
    ")\n",
    "\n",
    "print(f\"Total training examples: {len(train_df)}\")\n",
    "print(f\"Total validation examples: {len(val_df)}\")\n",
    "print(f\"Total test examples: {len(test_df)}\")"
   ]
  },
  {
   "cell_type": "markdown",
   "metadata": {
    "id": "QkDGS13cZbT1"
   },
   "source": [
    "## Data input pipeline\n",
    "\n",
    "TensorFlow Hub provides\n",
    "[variety of BERT family of models](https://www.tensorflow.org/text/tutorials/bert_glue#loading_models_from_tensorflow_hub).\n",
    "Each of those models comes with a\n",
    "corresponding preprocessing layer. You can learn more about these models and their\n",
    "preprocessing layers from\n",
    "[this resource](https://www.tensorflow.org/text/tutorials/bert_glue#loading_models_from_tensorflow_hub).\n",
    "\n",
    "To keep the runtime of this example relatively short, we will use a smaller variant of\n",
    "the original BERT model."
   ]
  },
  {
   "cell_type": "code",
   "execution_count": 58,
   "metadata": {
    "id": "gohlsHhWZbT2"
   },
   "outputs": [],
   "source": [
    "# Define TF Hub paths to the BERT encoder and its preprocessor\n",
    "bert_model_path = (\n",
    "    \"https://tfhub.dev/tensorflow/small_bert/bert_en_uncased_L-2_H-256_A-4/1\"\n",
    ")\n",
    "bert_preprocess_path = \"https://tfhub.dev/tensorflow/bert_en_uncased_preprocess/3\""
   ]
  },
  {
   "cell_type": "markdown",
   "metadata": {
    "id": "0dcvpV7FZbT3"
   },
   "source": [
    "Our text preprocessing code mostly comes from\n",
    "[this tutorial](https://www.tensorflow.org/text/tutorials/bert_glue).\n",
    "You are highly encouraged to check out the tutorial to learn more about the input\n",
    "preprocessing."
   ]
  },
  {
   "cell_type": "code",
   "execution_count": 59,
   "metadata": {
    "id": "jfeg4mLJZbT7"
   },
   "outputs": [
    {
     "data": {
      "image/png": "[encoded data removed]",
      "text/plain": [
       "<IPython.core.display.Image object>"
      ]
     },
     "execution_count": 59,
     "metadata": {},
     "output_type": "execute_result"
    }
   ],
   "source": [
    "\n",
    "def make_bert_preprocessing_model(sentence_features, seq_length=128):\n",
    "    \"\"\"Returns Model mapping string features to BERT inputs.\n",
    "\n",
    "  Args:\n",
    "    sentence_features: A list with the names of string-valued features.\n",
    "    seq_length: An integer that defines the sequence length of BERT inputs.\n",
    "\n",
    "  Returns:\n",
    "    A Keras Model that can be called on a list or dict of string Tensors\n",
    "    (with the order or names, resp., given by sentence_features) and\n",
    "    returns a dict of tensors for input to BERT.\n",
    "  \"\"\"\n",
    "\n",
    "    input_segments = [\n",
    "        tf.keras.layers.Input(shape=(), dtype=tf.string, name=ft)\n",
    "        for ft in sentence_features\n",
    "    ]\n",
    "\n",
    "    # Tokenize the text to word pieces.\n",
    "    bert_preprocess = hub.load(bert_preprocess_path)\n",
    "    tokenizer = hub.KerasLayer(bert_preprocess.tokenize, name=\"tokenizer\")\n",
    "    segments = [tokenizer(s) for s in input_segments]\n",
    "\n",
    "    # Optional: Trim segments in a smart way to fit seq_length.\n",
    "    # Simple cases (like this example) can skip this step and let\n",
    "    # the next step apply a default truncation to approximately equal lengths.\n",
    "    truncated_segments = segments\n",
    "\n",
    "    # Pack inputs. The details (start/end token ids, dict of output tensors)\n",
    "    # are model-dependent, so this gets loaded from the SavedModel.\n",
    "    packer = hub.KerasLayer(\n",
    "        bert_preprocess.bert_pack_inputs,\n",
    "        arguments=dict(seq_length=seq_length),\n",
    "        name=\"packer\",\n",
    "    )\n",
    "    model_inputs = packer(truncated_segments)\n",
    "    return keras.Model(input_segments, model_inputs)\n",
    "\n",
    "\n",
    "bert_preprocess_model = make_bert_preprocessing_model([\"text_1\", \"text_2\"])\n",
    "keras.utils.plot_model(bert_preprocess_model, show_shapes=True, show_dtype=True)"
   ]
  },
  {
   "cell_type": "markdown",
   "metadata": {
    "id": "JOK4AR7rZbT_"
   },
   "source": [
    "### Run the preprocessor on a sample input"
   ]
  },
  {
   "cell_type": "code",
   "execution_count": 60,
   "metadata": {
    "id": "CT8Qox6gZbUC"
   },
   "outputs": [
    {
     "name": "stdout",
     "output_type": "stream",
     "text": [
      "Text 1: #buythedip Ready to FLY even HIGHER  #pennystockrunner  #pennyStock   #hotstocks #StocksToTrade #StocksInFocus #Bitcoin          #BitcoinCash #crypto #Ethereum #altcoins #CryptocurrencyNews #cryptotwitter #cryptocurrencies #Ripple #Coinbase https://t.co/qapszfazcY\n",
      "Text 2: #buythedip Ready to FLY even HIGHER  #pennystockrunner  #pennyStock   #hotstocks #StocksToTrade #StocksInFocus #Bitcoin            #BitcoinCash #crypto #Ethereum #altcoins #CryptocurrencyNews #cryptotwitter #cryptocurrencies #Ripple #Coinbase https://t.co/6KTqSgDKF9\n",
      "Keys           :  ['input_type_ids', 'input_word_ids', 'input_mask']\n",
      "Shape Word Ids :  (1, 128)\n",
      "Word Ids       :  tf.Tensor(\n",
      "[  101  1001  4965 23816 11514  3201  2000  4875  2130  3020  1001 10647\n",
      " 14758 23195  1001 10647], shape=(16,), dtype=int32)\n",
      "Shape Mask     :  (1, 128)\n",
      "Input Mask     :  tf.Tensor([1 1 1 1 1 1 1 1 1 1 1 1 1 1 1 1], shape=(16,), dtype=int32)\n",
      "Shape Type Ids :  (1, 128)\n",
      "Type Ids       :  tf.Tensor([0 0 0 0 0 0 0 0 0 0 0 0 0 0 0 0], shape=(16,), dtype=int32)\n"
     ]
    }
   ],
   "source": [
    "idx = np.random.choice(len(train_df))\n",
    "row = train_df.iloc[idx]\n",
    "sample_text_1, sample_text_2 = row[\"text_1\"], row[\"text_2\"]\n",
    "print(f\"Text 1: {sample_text_1}\")\n",
    "print(f\"Text 2: {sample_text_2}\")\n",
    "\n",
    "test_text = [np.array([sample_text_1]), np.array([sample_text_2])]\n",
    "text_preprocessed = bert_preprocess_model(test_text)\n",
    "\n",
    "print(\"Keys           : \", list(text_preprocessed.keys()))\n",
    "print(\"Shape Word Ids : \", text_preprocessed[\"input_word_ids\"].shape)\n",
    "print(\"Word Ids       : \", text_preprocessed[\"input_word_ids\"][0, :16])\n",
    "print(\"Shape Mask     : \", text_preprocessed[\"input_mask\"].shape)\n",
    "print(\"Input Mask     : \", text_preprocessed[\"input_mask\"][0, :16])\n",
    "print(\"Shape Type Ids : \", text_preprocessed[\"input_type_ids\"].shape)\n",
    "print(\"Type Ids       : \", text_preprocessed[\"input_type_ids\"][0, :16])\n"
   ]
  },
  {
   "cell_type": "markdown",
   "metadata": {
    "id": "i0iVNASGZbUD"
   },
   "source": [
    "We will now create `tf.data.Dataset` objects from the dataframes.\n",
    "\n",
    "Note that the text inputs will be preprocessed as a part of the data input pipeline. But\n",
    "the preprocessing modules can also be a part of their corresponding BERT models. This\n",
    "helps reduce the training/serving skew and lets our models operate with raw text inputs.\n",
    "Follow [this tutorial](https://www.tensorflow.org/text/tutorials/classify_text_with_bert)\n",
    "to learn more about how to incorporate the preprocessing modules directly inside the\n",
    "models."
   ]
  },
  {
   "cell_type": "code",
   "execution_count": 61,
   "metadata": {
    "id": "6W2Ykq-gZbUE"
   },
   "outputs": [],
   "source": [
    "\n",
    "def dataframe_to_dataset(dataframe):\n",
    "    columns = [\"image_1_path\", \"image_2_path\", \"text_1\", \"text_2\", \"label_idx\"]\n",
    "    dataframe = dataframe[columns].copy()\n",
    "    labels = dataframe.pop(\"label_idx\")\n",
    "    ds = tf.data.Dataset.from_tensor_slices((dict(dataframe), labels))\n",
    "    ds = ds.shuffle(buffer_size=len(dataframe))\n",
    "    return ds\n"
   ]
  },
  {
   "cell_type": "markdown",
   "metadata": {
    "id": "OlzOyCDcZbUF"
   },
   "source": [
    "### Preprocessing utilities"
   ]
  },
  {
   "cell_type": "code",
   "execution_count": 62,
   "metadata": {
    "id": "wet9rpLhZbUF"
   },
   "outputs": [],
   "source": [
    "resize = (128, 128)\n",
    "bert_input_features = [\"input_word_ids\", \"input_type_ids\", \"input_mask\"]\n",
    "\n",
    "\n",
    "def preprocess_image(image_path):\n",
    "    extension = tf.strings.split(image_path)[-1]\n",
    "\n",
    "    image = tf.io.read_file(image_path)\n",
    "    if extension == b\"jpg\":\n",
    "        image = tf.image.decode_jpeg(image, 3)\n",
    "    else:\n",
    "        image = tf.image.decode_png(image, 3)\n",
    "    image = tf.image.resize(image, resize)\n",
    "    return image\n",
    "\n",
    "\n",
    "def preprocess_text(text_1, text_2):\n",
    "    text_1 = tf.convert_to_tensor([text_1])\n",
    "    text_2 = tf.convert_to_tensor([text_2])\n",
    "    output = bert_preprocess_model([text_1, text_2])\n",
    "    output = {feature: tf.squeeze(output[feature]) for feature in bert_input_features}\n",
    "    return output\n",
    "\n",
    "\n",
    "def preprocess_text_and_image(sample):\n",
    "    image_1 = preprocess_image(sample[\"image_1_path\"])\n",
    "    image_2 = preprocess_image(sample[\"image_2_path\"])\n",
    "    text = preprocess_text(sample[\"text_1\"], sample[\"text_2\"])\n",
    "    return {\"image_1\": image_1, \"image_2\": image_2, \"text\": text}\n"
   ]
  },
  {
   "cell_type": "markdown",
   "metadata": {
    "id": "RmE10x78ZbUH"
   },
   "source": [
    "### Create the final datasets"
   ]
  },
  {
   "cell_type": "code",
   "execution_count": 63,
   "metadata": {
    "id": "k3-bGIPVZbUH"
   },
   "outputs": [],
   "source": [
    "batch_size = 32\n",
    "auto = tf.data.AUTOTUNE\n",
    "\n",
    "\n",
    "def prepare_dataset(dataframe, training=True):\n",
    "    ds = dataframe_to_dataset(dataframe)\n",
    "    if training:\n",
    "        ds = ds.shuffle(len(train_df))\n",
    "    ds = ds.map(lambda x, y: (preprocess_text_and_image(x), y)).cache()\n",
    "    ds = ds.batch(batch_size).prefetch(auto)\n",
    "    return ds\n",
    "\n",
    "\n",
    "train_ds = prepare_dataset(train_df)\n",
    "validation_ds = prepare_dataset(val_df, False)\n",
    "test_ds = prepare_dataset(test_df, False)\n"
   ]
  },
  {
   "cell_type": "markdown",
   "metadata": {
    "id": "K9ApIGu3ZbUJ"
   },
   "source": [
    "## Model building utilities\n",
    "\n",
    "Our final model will accept two images along with their text counterparts. While the\n",
    "images will be directly fed to the model the text inputs will first be preprocessed and\n",
    "then will make it into the model. Below is a visual illustration of this approach:\n",
    "\n",
    "![](https://github.com/sayakpaul/Multimodal-Entailment-Baseline/raw/main/figures/brief_architecture.png)\n",
    "\n",
    "The model consists of the following elements:\n",
    "\n",
    "* A standalone encoder for the images. We will use a\n",
    "[ResNet50V2](https://arxiv.org/abs/1603.05027) pre-trained on the ImageNet-1k dataset for\n",
    "this.\n",
    "* A standalone encoder for the images. A pre-trained BERT will be used for this.\n",
    "\n",
    "After extracting the individual embeddings, they will be projected in an identical space.\n",
    "Finally, their projections will be concatenated and be fed to the final classification\n",
    "layer.\n",
    "\n",
    "This is a multi-class classification problem involving the following classes:\n",
    "\n",
    "* NoEntailment\n",
    "* Implies\n",
    "* Contradictory\n",
    "\n",
    "`project_embeddings()`, `create_vision_encoder()`, and `create_text_encoder()` utilities\n",
    "are referred from [this example](https://keras.io/examples/nlp/nl_image_search/)."
   ]
  },
  {
   "cell_type": "markdown",
   "metadata": {
    "id": "fh54G6RcZbUK"
   },
   "source": [
    "Projection utilities"
   ]
  },
  {
   "cell_type": "code",
   "execution_count": 64,
   "metadata": {
    "id": "v0giROT0ZbUK"
   },
   "outputs": [],
   "source": [
    "\n",
    "def project_embeddings(\n",
    "    embeddings, num_projection_layers, projection_dims, dropout_rate\n",
    "):\n",
    "    projected_embeddings = keras.layers.Dense(units=projection_dims)(embeddings)\n",
    "    for _ in range(num_projection_layers):\n",
    "        x = tf.nn.gelu(projected_embeddings)\n",
    "        x = keras.layers.Dense(projection_dims)(x)\n",
    "        x = keras.layers.Dropout(dropout_rate)(x)\n",
    "        x = keras.layers.Add()([projected_embeddings, x])\n",
    "        projected_embeddings = keras.layers.LayerNormalization()(x)\n",
    "    return projected_embeddings\n"
   ]
  },
  {
   "cell_type": "markdown",
   "metadata": {
    "id": "apS9S3v7ZbUM"
   },
   "source": [
    "Vision encoder utilities"
   ]
  },
  {
   "cell_type": "code",
   "execution_count": 70,
   "metadata": {
    "id": "8uBtJImRZbUN"
   },
   "outputs": [],
   "source": [
    "\n",
    "def create_vision_encoder(\n",
    "    num_projection_layers, projection_dims, dropout_rate, trainable=False\n",
    "):\n",
    "    # Load the pre-trained ResNet50V2 model to be used as the base encoder.\n",
    "    resnet_v2 = keras.applications.ResNet50V2(\n",
    "        include_top=False, weights=\"imagenet\", pooling=\"avg\"\n",
    "    )\n",
    "    # Set the trainability of the base encoder.\n",
    "    for layer in resnet_v2.layers:\n",
    "        layer.trainable = trainable\n",
    "\n",
    "    # Receive the images as inputs.\n",
    "    image_1 = keras.Input(shape=(128, 128, 3), name=\"image_1\")\n",
    "    image_2 = keras.Input(shape=(128, 128, 3), name=\"image_2\")\n",
    "\n",
    "    # Preprocess the input image.\n",
    "    preprocessed_1 = keras.applications.resnet_v2.preprocess_input(image_1)\n",
    "    preprocessed_2 = keras.applications.resnet_v2.preprocess_input(image_2)\n",
    "\n",
    "    # Generate the embeddings for the images using the resnet_v2 model\n",
    "    # concatenate them.\n",
    "    embeddings_1 = resnet_v2(preprocessed_1)\n",
    "    embeddings_2 = resnet_v2(preprocessed_2)\n",
    "    embeddings = keras.layers.Concatenate()([embeddings_1, embeddings_2])\n",
    "\n",
    "    # Project the embeddings produced by the model.\n",
    "    outputs = project_embeddings(\n",
    "        embeddings, num_projection_layers, projection_dims, dropout_rate\n",
    "    )\n",
    "    # Create the vision encoder model.\n",
    "    return keras.Model([image_1, image_2], outputs, name=\"vision_encoder\")\n"
   ]
  },
  {
   "cell_type": "markdown",
   "metadata": {
    "id": "xb-rBD1lZbUO"
   },
   "source": [
    "Text encoder utilities"
   ]
  },
  {
   "cell_type": "code",
   "execution_count": 66,
   "metadata": {
    "id": "nl78PRkZZbUO"
   },
   "outputs": [],
   "source": [
    "\n",
    "def create_text_encoder(\n",
    "    num_projection_layers, projection_dims, dropout_rate, trainable=False\n",
    "):\n",
    "    # Load the pre-trained BERT model to be used as the base encoder.\n",
    "    bert = hub.KerasLayer(bert_model_path, name=\"bert\",)\n",
    "    # Set the trainability of the base encoder.\n",
    "    bert.trainable = trainable\n",
    "\n",
    "    # Receive the text as inputs.\n",
    "    bert_input_features = [\"input_type_ids\", \"input_mask\", \"input_word_ids\"]\n",
    "    inputs = {\n",
    "        feature: keras.Input(shape=(128,), dtype=tf.int32, name=feature)\n",
    "        for feature in bert_input_features\n",
    "    }\n",
    "\n",
    "    # Generate embeddings for the preprocessed text using the BERT model.\n",
    "    embeddings = bert(inputs)[\"pooled_output\"]\n",
    "\n",
    "    # Project the embeddings produced by the model.\n",
    "    outputs = project_embeddings(\n",
    "        embeddings, num_projection_layers, projection_dims, dropout_rate\n",
    "    )\n",
    "    # Create the text encoder model.\n",
    "    return keras.Model(inputs, outputs, name=\"text_encoder\")\n"
   ]
  },
  {
   "cell_type": "markdown",
   "metadata": {
    "id": "Xpr0qtpvZbUQ"
   },
   "source": [
    "Multimodal model utilities"
   ]
  },
  {
   "cell_type": "code",
   "execution_count": 67,
   "metadata": {
    "id": "XpQJ_S0-ZbUQ"
   },
   "outputs": [
    {
     "name": "stdout",
     "output_type": "stream",
     "text": [
      "Downloading data from https://storage.googleapis.com/tensorflow/keras-applications/resnet/resnet50v2_weights_tf_dim_ordering_tf_kernels_notop.h5\n",
      "94674944/94668760 [==============================] - 34s 0us/step\n",
      "94683136/94668760 [==============================] - 34s 0us/step\n"
     ]
    },
    {
     "data": {
      "image/png": "[encoded data removed]",
      "text/plain": [
       "<IPython.core.display.Image object>"
      ]
     },
     "execution_count": 67,
     "metadata": {},
     "output_type": "execute_result"
    }
   ],
   "source": [
    "\n",
    "def create_multimodal_model(\n",
    "    num_projection_layers=1,\n",
    "    projection_dims=256,\n",
    "    dropout_rate=0.1,\n",
    "    vision_trainable=False,\n",
    "    text_trainable=False,\n",
    "):\n",
    "    # Receive the images as inputs.\n",
    "    image_1 = keras.Input(shape=(128, 128, 3), name=\"image_1\")\n",
    "    image_2 = keras.Input(shape=(128, 128, 3), name=\"image_2\")\n",
    "\n",
    "    # Receive the text as inputs.\n",
    "    bert_input_features = [\"input_type_ids\", \"input_mask\", \"input_word_ids\"]\n",
    "    text_inputs = {\n",
    "        feature: keras.Input(shape=(128,), dtype=tf.int32, name=feature)\n",
    "        for feature in bert_input_features\n",
    "    }\n",
    "\n",
    "    # Create the encoders.\n",
    "    vision_encoder = create_vision_encoder(\n",
    "        num_projection_layers, projection_dims, dropout_rate, vision_trainable\n",
    "    )\n",
    "    text_encoder = create_text_encoder(\n",
    "        num_projection_layers, projection_dims, dropout_rate, text_trainable\n",
    "    )\n",
    "\n",
    "    # Fetch the embedding projections.\n",
    "    vision_projections = vision_encoder([image_1, image_2])\n",
    "    text_projections = text_encoder(text_inputs)\n",
    "\n",
    "    # Concatenate the projections and pass through the classification layer.\n",
    "    concatenated = keras.layers.Concatenate()([vision_projections, text_projections])\n",
    "    outputs = keras.layers.Dense(3, activation=\"softmax\")(concatenated)\n",
    "    return keras.Model([image_1, image_2, text_inputs], outputs)\n",
    "\n",
    "\n",
    "multimodal_model = create_multimodal_model()\n",
    "keras.utils.plot_model(multimodal_model, show_shapes=True)"
   ]
  },
  {
   "cell_type": "markdown",
   "metadata": {
    "id": "sdSNZYJwZbUS"
   },
   "source": [
    "You can inspect the structure of the individual encoders as well by setting the\n",
    "`expand_nested` argument of `plot_model()` to `True`. You are encouraged\n",
    "to play with the different hyperparameters involved in building this model and\n",
    "observe how the final performance is affected."
   ]
  },
  {
   "cell_type": "markdown",
   "metadata": {
    "id": "jDJecdJaZbUT"
   },
   "source": [
    "## Compile and train the model"
   ]
  },
  {
   "cell_type": "code",
   "execution_count": 68,
   "metadata": {
    "id": "2FC50SS0ZbUU"
   },
   "outputs": [
    {
     "name": "stdout",
     "output_type": "stream",
     "text": [
      "Epoch 1/10\n",
      "38/38 [==============================] - 125s 3s/step - loss: 0.8174 - accuracy: 0.8429 - val_loss: 0.5612 - val_accuracy: 0.8571\n",
      "Epoch 2/10\n",
      "38/38 [==============================] - 100s 3s/step - loss: 0.4086 - accuracy: 0.8755 - val_loss: 0.6046 - val_accuracy: 0.8413\n",
      "Epoch 3/10\n",
      "38/38 [==============================] - 106s 3s/step - loss: 0.3731 - accuracy: 0.8855 - val_loss: 0.6414 - val_accuracy: 0.7937\n",
      "Epoch 4/10\n",
      "38/38 [==============================] - 100s 3s/step - loss: 0.2996 - accuracy: 0.9123 - val_loss: 0.7718 - val_accuracy: 0.7302\n",
      "Epoch 5/10\n",
      "38/38 [==============================] - 96s 3s/step - loss: 0.2544 - accuracy: 0.9290 - val_loss: 0.9150 - val_accuracy: 0.6667\n",
      "Epoch 6/10\n",
      "38/38 [==============================] - 96s 3s/step - loss: 0.1842 - accuracy: 0.9432 - val_loss: 0.9085 - val_accuracy: 0.8254\n",
      "Epoch 7/10\n",
      "38/38 [==============================] - 94s 2s/step - loss: 0.1740 - accuracy: 0.9440 - val_loss: 1.3934 - val_accuracy: 0.5714\n",
      "Epoch 8/10\n",
      "38/38 [==============================] - 97s 3s/step - loss: 0.1461 - accuracy: 0.9515 - val_loss: 1.0726 - val_accuracy: 0.7619\n",
      "Epoch 9/10\n",
      "38/38 [==============================] - 95s 3s/step - loss: 0.1793 - accuracy: 0.9415 - val_loss: 1.2735 - val_accuracy: 0.8571\n",
      "Epoch 10/10\n",
      "38/38 [==============================] - 98s 3s/step - loss: 0.2489 - accuracy: 0.9073 - val_loss: 1.3929 - val_accuracy: 0.8571\n"
     ]
    }
   ],
   "source": [
    "multimodal_model.compile(\n",
    "    optimizer=\"adam\", loss=\"sparse_categorical_crossentropy\", metrics=\"accuracy\"\n",
    ")\n",
    "\n",
    "history = multimodal_model.fit(train_ds, validation_data=validation_ds, epochs=10)"
   ]
  },
  {
   "cell_type": "markdown",
   "metadata": {
    "id": "Xw2j9DvyZbUV"
   },
   "source": [
    "## Evaluate the model"
   ]
  },
  {
   "cell_type": "code",
   "execution_count": 69,
   "metadata": {
    "id": "s4iBvI-EZbUV"
   },
   "outputs": [
    {
     "name": "stdout",
     "output_type": "stream",
     "text": [
      "5/5 [==============================] - 13s 2s/step - loss: 1.0935 - accuracy: 0.8857\n",
      "Accuracy on the test set: 88.57%.\n"
     ]
    }
   ],
   "source": [
    "_, acc = multimodal_model.evaluate(test_ds)\n",
    "print(f\"Accuracy on the test set: {round(acc * 100, 2)}%.\")"
   ]
  },
  {
   "cell_type": "markdown",
   "metadata": {
    "id": "mG5yBeqKZbUW"
   },
   "source": [
    "## Additional notes regarding training\n",
    "\n",
    "**Incorporating regularization**:\n",
    "\n",
    "The training logs suggest that the model is starting to overfit and may have benefitted\n",
    "from regularization. Dropout ([Srivastava et al.](https://jmlr.org/papers/v15/srivastava14a.html))\n",
    "is a simple yet powerful regularization technique that we can use in our model.\n",
    "But how should we apply it here?\n",
    "\n",
    "We could always introduce Dropout (`keras.layers.Dropout`) in between different layers of the model.\n",
    "But here is another recipe. Our model expects inputs from two different data modalities.\n",
    "What if either of the modalities is not present during inference? To account for this,\n",
    "we can introduce Dropout to the individual projections just before they get concatenated:\n",
    "\n",
    "```python\n",
    "vision_projections = keras.layers.Dropout(rate)(vision_projections)\n",
    "text_projections = keras.layers.Dropout(rate)(text_projections)\n",
    "concatenated = keras.layers.Concatenate()([vision_projections, text_projections])\n",
    "```\n",
    "\n",
    "**Attending to what matters**:\n",
    "\n",
    "Do all parts of the images correspond equally to their textual counterparts? It's likely\n",
    "not the case. To make our model only focus on the most important bits of the images that relate\n",
    "well to their corresponding textual parts we can use \"cross-attention\":\n",
    "\n",
    "```python\n",
    "# Embeddings.\n",
    "vision_projections = vision_encoder([image_1, image_2])\n",
    "text_projections = text_encoder(text_inputs)\n",
    "\n",
    "# Cross-attention (Luong-style).\n",
    "query_value_attention_seq = keras.layers.Attention(use_scale=True, dropout=0.2)(\n",
    "    [vision_projections, text_projections]\n",
    ")\n",
    "# Concatenate.\n",
    "concatenated = keras.layers.Concatenate()([vision_projections, text_projections])\n",
    "contextual = keras.layers.Concatenate()([concatenated, query_value_attention_seq])\n",
    "```\n",
    "\n",
    "To see this in action, refer to\n",
    "[this notebook](https://github.com/sayakpaul/Multimodal-Entailment-Baseline/blob/main/multimodal_entailment_attn.ipynb).\n",
    "\n",
    "**Handling class imbalance**:\n",
    "\n",
    "The dataset suffers from class imbalance. Investigating the confusion matrix of the\n",
    "above model reveals that it performs poorly on the minority classes. If we had used a\n",
    "weighted loss then the training would have been more guided. You can check out\n",
    "[this notebook](https://github.com/sayakpaul/Multimodal-Entailment-Baseline/blob/main/multimodal_entailment.ipynb)\n",
    "that takes class-imbalance into account during model training.\n",
    "\n",
    "**Using only text inputs**:\n",
    "\n",
    "Also, what if we had only incorporated text inputs for the entailment task? Because of\n",
    "the nature of the text inputs encountered on social media platforms, text inputs alone\n",
    "would have hurt the final performance. Under a similar training setup, by only using\n",
    "text inputs we get to 67.14% top-1 accuracy on the same test set. Refer to\n",
    "[this notebook](https://github.com/sayakpaul/Multimodal-Entailment-Baseline/blob/main/text_entailment.ipynb)\n",
    "for details.\n",
    "\n",
    "Finally, here is a table comparing different approaches taken for the entailment task:\n",
    "\n",
    "| Type  | Standard<br>Cross-entropy     | Loss-weighted<br>Cross-entropy    | Focal Loss    |\n",
    "|:---:  |:---:  |:---:    |:---:    |\n",
    "| Multimodal    | 77.86%    | 67.86%    | 86.43%    |\n",
    "| Only text     | 67.14%    | 11.43%    | 37.86%    |\n",
    "\n",
    "You can check out [this repository](https://git.io/JR0HU) to learn more about how the\n",
    "experiments were conducted to obtain these numbers."
   ]
  },
  {
   "cell_type": "markdown",
   "metadata": {
    "id": "pefQ3yIgZbUX"
   },
   "source": [
    "## Final remarks\n",
    "\n",
    "* The architecture we used in this example is too large for the number of data points\n",
    "available for training. It's going to benefit from more data.\n",
    "* We used a smaller variant of the original BERT model. Chances are high that with a\n",
    "larger variant, this performance will be improved. TensorFlow Hub\n",
    "[provides](https://www.tensorflow.org/text/tutorials/bert_glue#loading_models_from_tensorflow_hub)\n",
    "a number of different BERT models that you can experiment with.\n",
    "* We kept the pre-trained models frozen. Fine-tuning them on the multimodal entailment\n",
    "task would could resulted in better performance.\n",
    "* We built a simple baseline model for the multimodal entailment task. There are various\n",
    "approaches that have been proposed to tackle the entailment problem.\n",
    "[This presentation deck](https://docs.google.com/presentation/d/1mAB31BCmqzfedreNZYn4hsKPFmgHA9Kxz219DzyRY3c/edit?usp=sharing)\n",
    "from the\n",
    "[Recognizing Multimodal Entailment](https://multimodal-entailment.github.io/)\n",
    "tutorial provides a comprehensive overview.\n",
    "\n",
    "You can use the trained model hosted on [Hugging Face Hub](https://huggingface.co/keras-io/multimodal-entailment) and try the demo on [Hugging Face Spaces](https://huggingface.co/spaces/keras-io/multimodal_entailment)"
   ]
  },
  {
   "cell_type": "code",
   "execution_count": null,
   "metadata": {},
   "outputs": [],
   "source": []
  }
 ],
 "metadata": {
  "colab": {
   "collapsed_sections": [],
   "name": "multimodal_entailment",
   "provenance": [],
   "toc_visible": true
  },
  "kernelspec": {
   "display_name": "Python 3",
   "language": "python",
   "name": "python3"
  },
  "language_info": {
   "codemirror_mode": {
    "name": "ipython",
    "version": 3
   },
   "file_extension": ".py",
   "mimetype": "text/x-python",
   "name": "python",
   "nbconvert_exporter": "python",
   "pygments_lexer": "ipython3",
   "version": "3.6.9"
  }
 },
 "nbformat": 4,
 "nbformat_minor": 1
}
